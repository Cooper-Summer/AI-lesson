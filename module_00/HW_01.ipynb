{
 "cells": [
  {
   "cell_type": "code",
   "execution_count": 1,
   "id": "344013d1",
   "metadata": {},
   "outputs": [],
   "source": [
    "import numpy as np\n",
    "import matplotlib.pyplot as plt\n",
    "plt.style.use('fivethirtyeight')\n",
    "import pandas as pd"
   ]
  },
  {
   "cell_type": "markdown",
   "id": "d446d040",
   "metadata": {},
   "source": [
    "# HW_01 - Generative AI coding analysis\n",
    "\n",
    "In this assignment, you will generate a [fizz-buzz](https://en.wikipedia.org/wiki/Fizz_buzz) code using [ChatGPT](https://chatgpt.com/) and editing the resulting block of code. \n",
    "\n",
    "The Fizz-Buzz question is common in coding interviews to test how a person thinks through a problem. The goal is to print out the following output for numbers 1-N:\n",
    "\n",
    "- if the number is divisible by 3, print `fizz`\n",
    "- if the number is divisible by 5, print `buzz`\n",
    "- if the number is divisible by 3 and 5, print `fizzbuzz!`\n",
    "- otherwise, print the number, e.g. `1`\n",
    "\n",
    "We are changing the goal, now we want\n",
    "\n",
    "- if the number is divisible by 3, print `UConn`\n",
    "- if the number is divisible by 5, print `Basketball`\n",
    "- if the number is divisible by 3 and 5, print `Champions!`\n",
    "- otherwise, print the number, e.g. `1`\n",
    "\n",
    "Try to get [ChatGPT](https://chatgpt.com/) to give you a working fizz-buzz code, then edit the code to print our UConn Basketball Champions outputs. "
   ]
  },
  {
   "cell_type": "markdown",
   "id": "87705f35",
   "metadata": {},
   "source": [
    "## Prompt Input and Output\n",
    "\n",
    "-> _copy-paste your prompts and outputs here_"
   ]
  },
  {
   "cell_type": "code",
   "execution_count": null,
   "id": "9a338240-444f-4692-8f1a-2c55e5c9d586",
   "metadata": {},
   "outputs": [],
   "source": []
  },
  {
   "cell_type": "markdown",
   "id": "670e5378",
   "metadata": {},
   "source": [
    "## Revised document\n",
    "\n",
    "-> _copy-paste the document here, then edit the output to remove passive phrasing and add specific ideas from your own research or experience (try quantifying any phrases such as 'many', 'fewer', 'more important', etc._"
   ]
  },
  {
   "cell_type": "code",
   "execution_count": null,
   "id": "79f117f5-0a99-49a8-b81d-5a08ea034027",
   "metadata": {},
   "outputs": [],
   "source": []
  },
  {
   "cell_type": "markdown",
   "id": "62eb2b3d",
   "metadata": {},
   "source": [
    "_run the cell below to get your `tf_idf` functions ready to run_"
   ]
  },
  {
   "cell_type": "code",
   "execution_count": 1,
   "id": "02b042fe-3d1f-45bf-a928-75a638e84468",
   "metadata": {
    "scrolled": true
   },
   "outputs": [
    {
     "name": "stdout",
     "output_type": "stream",
     "text": [
      "Requirement already satisfied: tf-idf-cosimm in /home/ryan/miniconda3/lib/python3.12/site-packages (0.0.1)\n",
      "Requirement already satisfied: numpy in /home/ryan/miniconda3/lib/python3.12/site-packages (from tf-idf-cosimm) (1.26.4)\n",
      "Requirement already satisfied: pandas in /home/ryan/miniconda3/lib/python3.12/site-packages (from tf-idf-cosimm) (2.2.2)\n",
      "Requirement already satisfied: nltk in /home/ryan/miniconda3/lib/python3.12/site-packages (from tf-idf-cosimm) (3.8.1)\n",
      "Requirement already satisfied: scikit-learn in /home/ryan/miniconda3/lib/python3.12/site-packages (from tf-idf-cosimm) (1.5.0)\n",
      "Requirement already satisfied: click in /home/ryan/miniconda3/lib/python3.12/site-packages (from nltk->tf-idf-cosimm) (8.1.7)\n",
      "Requirement already satisfied: joblib in /home/ryan/miniconda3/lib/python3.12/site-packages (from nltk->tf-idf-cosimm) (1.4.2)\n",
      "Requirement already satisfied: regex>=2021.8.3 in /home/ryan/miniconda3/lib/python3.12/site-packages (from nltk->tf-idf-cosimm) (2024.5.15)\n",
      "Requirement already satisfied: tqdm in /home/ryan/miniconda3/lib/python3.12/site-packages (from nltk->tf-idf-cosimm) (4.66.2)\n",
      "Requirement already satisfied: python-dateutil>=2.8.2 in /home/ryan/miniconda3/lib/python3.12/site-packages (from pandas->tf-idf-cosimm) (2.9.0.post0)\n",
      "Requirement already satisfied: pytz>=2020.1 in /home/ryan/miniconda3/lib/python3.12/site-packages (from pandas->tf-idf-cosimm) (2024.1)\n",
      "Requirement already satisfied: tzdata>=2022.7 in /home/ryan/miniconda3/lib/python3.12/site-packages (from pandas->tf-idf-cosimm) (2024.1)\n",
      "Requirement already satisfied: scipy>=1.6.0 in /home/ryan/miniconda3/lib/python3.12/site-packages (from scikit-learn->tf-idf-cosimm) (1.13.1)\n",
      "Requirement already satisfied: threadpoolctl>=3.1.0 in /home/ryan/miniconda3/lib/python3.12/site-packages (from scikit-learn->tf-idf-cosimm) (3.5.0)\n",
      "Requirement already satisfied: six>=1.5 in /home/ryan/miniconda3/lib/python3.12/site-packages (from python-dateutil>=2.8.2->pandas->tf-idf-cosimm) (1.16.0)\n"
     ]
    }
   ],
   "source": [
    "! pip install tf-idf-cosimm==0.0.2"
   ]
  },
  {
   "cell_type": "code",
   "execution_count": 3,
   "id": "e5bddc12-e642-4d85-bbc8-11f6f3bf887c",
   "metadata": {},
   "outputs": [
    {
     "name": "stderr",
     "output_type": "stream",
     "text": [
      "[nltk_data] Downloading package punkt to /home/ryan/nltk_data...\n",
      "[nltk_data]   Package punkt is already up-to-date!\n"
     ]
    }
   ],
   "source": [
    "import tf_idf.core as tf_idf"
   ]
  },
  {
   "cell_type": "code",
   "execution_count": 4,
   "id": "f0265e28-6f4d-450d-88b5-e4988d8e5390",
   "metadata": {},
   "outputs": [],
   "source": [
    "AI = '''for i in range(10): print('fizzbuzz')'''\n",
    "compare = tf_idf.preprocess_text(AI)"
   ]
  },
  {
   "cell_type": "code",
   "execution_count": 5,
   "id": "c34026c8-5d48-4d8f-9b2e-88de15bb041e",
   "metadata": {},
   "outputs": [
    {
     "data": {
      "text/html": [
       "<div>\n",
       "<style scoped>\n",
       "    .dataframe tbody tr th:only-of-type {\n",
       "        vertical-align: middle;\n",
       "    }\n",
       "\n",
       "    .dataframe tbody tr th {\n",
       "        vertical-align: top;\n",
       "    }\n",
       "\n",
       "    .dataframe thead th {\n",
       "        text-align: right;\n",
       "    }\n",
       "</style>\n",
       "<table border=\"1\" class=\"dataframe\">\n",
       "  <thead>\n",
       "    <tr style=\"text-align: right;\">\n",
       "      <th></th>\n",
       "      <th>DOCUMENT</th>\n",
       "      <th>LOWERCASE</th>\n",
       "      <th>CLEANING</th>\n",
       "      <th>TOKENIZATION</th>\n",
       "      <th>STOP-WORDS</th>\n",
       "      <th>STEMMING</th>\n",
       "    </tr>\n",
       "  </thead>\n",
       "  <tbody>\n",
       "    <tr>\n",
       "      <th>0</th>\n",
       "      <td>for i in range(10): print('fizzbuzz')</td>\n",
       "      <td>for i in range(10): print('fizzbuzz')</td>\n",
       "      <td>for i in range10 printfizzbuzz</td>\n",
       "      <td>[for, i, in, range10, printfizzbuzz]</td>\n",
       "      <td>[range10, printfizzbuzz]</td>\n",
       "      <td>[range10, printfizzbuzz]</td>\n",
       "    </tr>\n",
       "    <tr>\n",
       "      <th>1</th>\n",
       "      <td>for i in range(10): print('UConn')</td>\n",
       "      <td>for i in range(10): print('uconn')</td>\n",
       "      <td>for i in range10 printuconn</td>\n",
       "      <td>[for, i, in, range10, printuconn]</td>\n",
       "      <td>[range10, printuconn]</td>\n",
       "      <td>[range10, printuconn]</td>\n",
       "    </tr>\n",
       "  </tbody>\n",
       "</table>\n",
       "</div>"
      ],
      "text/plain": [
       "                                DOCUMENT  \\\n",
       "0  for i in range(10): print('fizzbuzz')   \n",
       "1     for i in range(10): print('UConn')   \n",
       "\n",
       "                               LOWERCASE                        CLEANING  \\\n",
       "0  for i in range(10): print('fizzbuzz')  for i in range10 printfizzbuzz   \n",
       "1     for i in range(10): print('uconn')     for i in range10 printuconn   \n",
       "\n",
       "                           TOKENIZATION                STOP-WORDS  \\\n",
       "0  [for, i, in, range10, printfizzbuzz]  [range10, printfizzbuzz]   \n",
       "1     [for, i, in, range10, printuconn]     [range10, printuconn]   \n",
       "\n",
       "                   STEMMING  \n",
       "0  [range10, printfizzbuzz]  \n",
       "1     [range10, printuconn]  "
      ]
     },
     "execution_count": 5,
     "metadata": {},
     "output_type": "execute_result"
    }
   ],
   "source": [
    "ME = '''for i in range(10): print('UConn')'''\n",
    "compare = pd.concat([compare, tf_idf.preprocess_text(ME)], \n",
    "                    ignore_index=True)\n",
    "compare"
   ]
  },
  {
   "cell_type": "code",
   "execution_count": 6,
   "id": "385e4ea0-c41d-44ae-8db2-e791e7cfe693",
   "metadata": {},
   "outputs": [
    {
     "data": {
      "text/html": [
       "<div>\n",
       "<style scoped>\n",
       "    .dataframe tbody tr th:only-of-type {\n",
       "        vertical-align: middle;\n",
       "    }\n",
       "\n",
       "    .dataframe tbody tr th {\n",
       "        vertical-align: top;\n",
       "    }\n",
       "\n",
       "    .dataframe thead th {\n",
       "        text-align: right;\n",
       "    }\n",
       "</style>\n",
       "<table border=\"1\" class=\"dataframe\">\n",
       "  <thead>\n",
       "    <tr style=\"text-align: right;\">\n",
       "      <th></th>\n",
       "      <th>DOCUMENT</th>\n",
       "      <th>STEMMING</th>\n",
       "      <th>COSIM</th>\n",
       "    </tr>\n",
       "  </thead>\n",
       "  <tbody>\n",
       "    <tr>\n",
       "      <th>0</th>\n",
       "      <td>for i in range(10): print('fizzbuzz')</td>\n",
       "      <td>[range10, printfizzbuzz]</td>\n",
       "      <td>1.000000</td>\n",
       "    </tr>\n",
       "    <tr>\n",
       "      <th>1</th>\n",
       "      <td>for i in range(10): print('UConn')</td>\n",
       "      <td>[range10, printuconn]</td>\n",
       "      <td>0.336097</td>\n",
       "    </tr>\n",
       "  </tbody>\n",
       "</table>\n",
       "</div>"
      ],
      "text/plain": [
       "                                DOCUMENT                  STEMMING     COSIM\n",
       "0  for i in range(10): print('fizzbuzz')  [range10, printfizzbuzz]  1.000000\n",
       "1     for i in range(10): print('UConn')     [range10, printuconn]  0.336097"
      ]
     },
     "execution_count": 6,
     "metadata": {},
     "output_type": "execute_result"
    }
   ],
   "source": [
    "tf_idf.cosineSimilarity(compare)"
   ]
  },
  {
   "cell_type": "markdown",
   "id": "5ffef0d6",
   "metadata": {},
   "source": [
    "## Document analysis\n",
    "\n",
    "- Make a list of all the improvements and changes you made to document\n",
    "- use the `tf_idf.cosineSimilarity` function to compare the AI version to your own\n",
    "\n",
    "Write a report on your intellectual property  in the 'revised code'. \n",
    "- How much can you claim as yours?\n",
    "- How many ideas came from AI?\n",
    "- How many ideas came from you?\n",
    "- Is this a _new_ code?\n",
    "- If this work was made by you and another person-not AI-would you need to credit this person as a co-coder?\n",
    "- What else can you discuss about this comparison and this process?"
   ]
  },
  {
   "cell_type": "code",
   "execution_count": null,
   "id": "980502d2",
   "metadata": {},
   "outputs": [],
   "source": []
  }
 ],
 "metadata": {
  "jupytext": {
   "formats": "md:myst,ipynb"
  },
  "kernelspec": {
   "display_name": "Python 3 (ipykernel)",
   "language": "python",
   "name": "python3"
  },
  "language_info": {
   "codemirror_mode": {
    "name": "ipython",
    "version": 3
   },
   "file_extension": ".py",
   "mimetype": "text/x-python",
   "name": "python",
   "nbconvert_exporter": "python",
   "pygments_lexer": "ipython3",
   "version": "3.9.0"
  }
 },
 "nbformat": 4,
 "nbformat_minor": 5
}
